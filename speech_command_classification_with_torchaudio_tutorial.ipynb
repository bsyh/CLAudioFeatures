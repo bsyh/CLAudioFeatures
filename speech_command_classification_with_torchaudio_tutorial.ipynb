{
  "cells": [
    {
      "cell_type": "code",
      "execution_count": 1,
      "metadata": {
        "collapsed": false
      },
      "outputs": [],
      "source": [
        "%matplotlib inline"
      ]
    },
    {
      "cell_type": "markdown",
      "metadata": {},
      "source": [
        "\n",
        "# Speech Command Classification with torchaudio\n",
        "\n",
        "This tutorial will show you how to correctly format an audio dataset and\n",
        "then train/test an audio classifier network on the dataset.\n",
        "\n",
        "Colab has GPU option available. In the menu tabs, select “Runtime” then\n",
        "“Change runtime type”. In the pop-up that follows, you can choose GPU.\n",
        "After the change, your runtime should automatically restart (which means\n",
        "information from executed cells disappear).\n",
        "\n",
        "First, let’s import the common torch packages such as\n",
        "[torchaudio](https://github.com/pytorch/audio)_ that can be installed\n",
        "by following the instructions on the website.\n"
      ]
    },
    {
      "cell_type": "code",
      "execution_count": 2,
      "metadata": {
        "collapsed": false
      },
      "outputs": [],
      "source": [
        "# Uncomment the line corresponding to your \"runtime type\" to run in Google Colab\n",
        "\n",
        "# CPU:\n",
        "# !pip install pydub torch==1.7.0+cpu torchvision==0.8.1+cpu torchaudio==0.7.0 -f https://download.pytorch.org/whl/torch_stable.html\n",
        "\n",
        "# GPU:\n",
        "# !pip install pydub torch==1.7.0+cu101 torchvision==0.8.1+cu101 torchaudio==0.7.0 -f https://download.pytorch.org/whl/torch_stable.html\n",
        "\n",
        "import torch\n",
        "import torch.nn as nn\n",
        "import torch.nn.functional as F\n",
        "import torch.optim as optim\n",
        "import torchaudio\n",
        "import sys, os\n",
        "\n",
        "import matplotlib.pyplot as plt\n",
        "import IPython.display as ipd\n",
        "\n",
        "from tqdm import tqdm\n",
        "\n",
        "import random"
      ]
    },
    {
      "cell_type": "markdown",
      "metadata": {},
      "source": [
        "Let’s check if a CUDA GPU is available and select our device. Running\n",
        "the network on a GPU will greatly decrease the training/testing runtime.\n",
        "\n",
        "\n"
      ]
    },
    {
      "cell_type": "code",
      "execution_count": 3,
      "metadata": {
        "collapsed": false
      },
      "outputs": [
        {
          "name": "stdout",
          "output_type": "stream",
          "text": [
            "cuda\n"
          ]
        }
      ],
      "source": [
        "device = torch.device(\"cuda\" if torch.cuda.is_available() else \"cpu\")\n",
        "print(device)"
      ]
    },
    {
      "cell_type": "markdown",
      "metadata": {},
      "source": [
        "## Importing the Dataset\n",
        "\n",
        "We use torchaudio to download and represent the dataset. Here we use\n",
        "[SpeechCommands](https://arxiv.org/abs/1804.03209)_, which is a\n",
        "datasets of 35 commands spoken by different people. The dataset\n",
        "``SPEECHCOMMANDS`` is a ``torch.utils.data.Dataset`` version of the\n",
        "dataset. In this dataset, all audio files are about 1 second long (and\n",
        "so about 16000 time frames long).\n",
        "\n",
        "The actual loading and formatting steps happen when a data point is\n",
        "being accessed, and torchaudio takes care of converting the audio files\n",
        "to tensors. If one wants to load an audio file directly instead,\n",
        "``torchaudio.load()`` can be used. It returns a tuple containing the\n",
        "newly created tensor along with the sampling frequency of the audio file\n",
        "(16kHz for SpeechCommands).\n",
        "\n",
        "Going back to the dataset, here we create a subclass that splits it into\n",
        "standard training, validation, testing subsets.\n",
        "\n",
        "\n"
      ]
    },
    {
      "cell_type": "code",
      "execution_count": 4,
      "metadata": {},
      "outputs": [
        {
          "name": "stdout",
          "output_type": "stream",
          "text": [
            "/home/hushouyue0928/CLAudioFeatures\n"
          ]
        }
      ],
      "source": [
        "PROJECT_PATH = os.getcwd()\n",
        "AVCAFFE_PATH =  os.path.join(PROJECT_PATH, \"AVCAffe\")\n",
        "print(PROJECT_PATH)"
      ]
    },
    {
      "cell_type": "code",
      "execution_count": 5,
      "metadata": {},
      "outputs": [
        {
          "name": "stdout",
          "output_type": "stream",
          "text": [
            "audio segment list: ['aiim104', 'aiim072', 'aiim021', 'aiim079', 'aiim008', 'aiim076', 'aiim052', 'aiim107', 'aiim020', 'aiim033', 'aiim006', 'aiim059', 'aiim030', 'aiim012', 'aiim047', 'aiim100', 'aiim081', 'aiim040', 'aiim049', 'aiim001', 'aiim080', 'aiim073', 'aiim068', 'aiim057', 'aiim027', 'aiim064', 'aiim023', 'aiim102', 'aiim062', 'aiim077', 'aiim032', 'aiim038', 'aiim089', 'aiim010', 'aiim042', 'aiim014', 'aiim098', 'aiim031', 'aiim029', 'aiim011', 'aiim106', 'aiim056', 'aiim066', 'aiim083', 'aiim025', 'aiim024', 'aiim063', 'aiim044', 'aiim065', 'aiim087', 'aiim009', 'aiim022', 'aiim002', 'aiim013', 'aiim034', 'aiim019', 'aiim055', 'aiim037', 'aiim082', 'aiim054', 'aiim046', 'aiim017', 'aiim084', 'aiim070', 'aiim088', 'aiim071', 'aiim075', 'aiim078', 'aiim028', 'aiim061', 'aiim095', 'aiim091', 'aiim048', 'aiim092', 'aiim060', 'aiim085', 'aiim005', 'aiim043', 'aiim108', 'aiim039', 'aiim036', 'aiim090', 'aiim067', 'aiim074', 'aiim058', 'aiim105', 'aiim103', 'aiim050', 'aiim069', 'aiim007', 'aiim097', 'aiim045', 'aiim018', 'aiim086', 'aiim026', 'aiim051', 'aiim093', 'aiim035', 'aiim041', 'aiim053', 'aiim094', 'aiim015', 'aiim016', 'aiim099', 'aiim096', 'aiim101']\n",
            "loaded 32296 \ttrain\n",
            "loaded 7166 \tvalidation\n"
          ]
        }
      ],
      "source": [
        "random.seed(0)\n",
        "\n",
        "os.chdir(os.path.join(AVCAFFE_PATH, \"codes\",\"dataloader\"))\n",
        "from AVCAffe.codes.dataloader.avcaffe_vid import AVCAffe\n",
        "os.chdir(PROJECT_PATH)\n",
        "\n",
        "DB_PATH = os.path.join(AVCAFFE_PATH, \"data\")\n",
        "shorter_segments = os.path.join(DB_PATH, 'videos', 'shorter_segments')\n",
        "print( \"audio segment list:\", os.listdir( shorter_segments) )\n",
        "\n",
        "train = AVCAffe(DB_PATH,\n",
        "             subset='train',\n",
        "             return_video=False,\n",
        "             video_clip_duration=1.,\n",
        "             video_fps=16.,\n",
        "             return_audio=True,\n",
        "             audio_clip_duration=1.,\n",
        "             audio_fps=24000,\n",
        "             return_labels=True,\n",
        "             audio_must=True,\n",
        "             cogload_class_type='original',\n",
        "             class_name='mental_demand',\n",
        "             mode='clip',\n",
        "             clips_per_video=1,\n",
        "             )\n",
        "print('loaded', len(train), '\\ttrain')\n",
        "\n",
        "val = AVCAffe(DB_PATH,\n",
        "             subset='val',\n",
        "             return_video=False,\n",
        "             video_clip_duration=1.,\n",
        "             video_fps=16.,\n",
        "             return_audio=True,\n",
        "             audio_clip_duration=1.,\n",
        "             audio_fps=24000,\n",
        "             return_labels=True,\n",
        "             audio_must=True,\n",
        "             cogload_class_type='original',\n",
        "             class_name='mental_demand',\n",
        "             mode='clip',\n",
        "             clips_per_video=1,\n",
        "             )\n",
        "print('loaded', len(val), '\\tvalidation')\n"
      ]
    },
    {
      "cell_type": "markdown",
      "metadata": {},
      "source": [
        "A data point in the SPEECHCOMMANDS dataset is a tuple made of a waveform\n",
        "(the audio signal), the sample rate, the utterance (label), the ID of\n",
        "the speaker, the number of the utterance.\n",
        "\n",
        "\n"
      ]
    },
    {
      "cell_type": "code",
      "execution_count": 6,
      "metadata": {},
      "outputs": [
        {
          "name": "stdout",
          "output_type": "stream",
          "text": [
            "9 \n",
            " [-6.10370190e-05 -3.05185095e-05  0.00000000e+00 ...  1.83111057e-04\n",
            "  1.52592547e-04  2.13629566e-04]\n"
          ]
        },
        {
          "data": {
            "text/plain": [
              "[<matplotlib.lines.Line2D at 0x7f681d885e10>]"
            ]
          },
          "execution_count": 6,
          "metadata": {},
          "output_type": "execute_result"
        },
        {
          "data": {
            "image/png": "[encoded data removed]",
            "text/plain": [
              "<Figure size 640x480 with 1 Axes>"
            ]
          },
          "metadata": {},
          "output_type": "display_data"
        }
      ],
      "source": [
        "example = train[0]\n",
        "print(example['label'],'\\n',example['audio'][0])\n",
        "plt.plot(example['audio'][0])"
      ]
    },
    {
      "cell_type": "markdown",
      "metadata": {},
      "source": [
        "Let’s find the list of labels available in the dataset.\n",
        "\n",
        "\n"
      ]
    },
    {
      "cell_type": "code",
      "execution_count": 8,
      "metadata": {
        "collapsed": false
      },
      "outputs": [],
      "source": [
        "labels = []\n",
        "for i in range(len(train)):\n",
        "    labels.append((train[i]['label']))\n",
        "print()\n",
        "    "
      ]
    },
    {
      "cell_type": "markdown",
      "metadata": {},
      "source": [
        "The 35 audio labels are commands that are said by users. The first few\n",
        "files are people saying “marvin”.\n",
        "\n",
        "\n"
      ]
    },
    {
      "cell_type": "code",
      "execution_count": null,
      "metadata": {
        "collapsed": false
      },
      "outputs": [],
      "source": [
        "waveform_first, *_ = train_set[0]\n",
        "ipd.Audio(waveform_first.numpy(), rate=sample_rate)\n",
        "\n",
        "waveform_second, *_ = train_set[1]\n",
        "ipd.Audio(waveform_second.numpy(), rate=sample_rate)"
      ]
    },
    {
      "cell_type": "markdown",
      "metadata": {},
      "source": [
        "The last file is someone saying “visual”.\n",
        "\n",
        "\n"
      ]
    },
    {
      "cell_type": "code",
      "execution_count": null,
      "metadata": {
        "collapsed": false
      },
      "outputs": [],
      "source": [
        "waveform_last, *_ = train_set[-1]\n",
        "ipd.Audio(waveform_last.numpy(), rate=sample_rate)"
      ]
    },
    {
      "cell_type": "markdown",
      "metadata": {},
      "source": [
        "## Formatting the Data\n",
        "\n",
        "This is a good place to apply transformations to the data. For the\n",
        "waveform, we downsample the audio for faster processing without losing\n",
        "too much of the classification power.\n",
        "\n",
        "We don’t need to apply other transformations here. It is common for some\n",
        "datasets though to have to reduce the number of channels (say from\n",
        "stereo to mono) by either taking the mean along the channel dimension,\n",
        "or simply keeping only one of the channels. Since SpeechCommands uses a\n",
        "single channel for audio, this is not needed here.\n",
        "\n",
        "\n"
      ]
    },
    {
      "cell_type": "code",
      "execution_count": null,
      "metadata": {
        "collapsed": false
      },
      "outputs": [],
      "source": [
        "new_sample_rate = 8000\n",
        "transform = torchaudio.transforms.Resample(orig_freq=sample_rate, new_freq=new_sample_rate)\n",
        "transformed = transform(waveform)\n",
        "\n",
        "ipd.Audio(transformed.numpy(), rate=new_sample_rate)"
      ]
    },
    {
      "cell_type": "markdown",
      "metadata": {},
      "source": [
        "We are encoding each word using its index in the list of labels.\n",
        "\n",
        "\n"
      ]
    },
    {
      "cell_type": "code",
      "execution_count": null,
      "metadata": {
        "collapsed": false
      },
      "outputs": [],
      "source": [
        "def label_to_index(word):\n",
        "    # Return the position of the word in labels\n",
        "    return torch.tensor(labels.index(word))\n",
        "\n",
        "\n",
        "def index_to_label(index):\n",
        "    # Return the word corresponding to the index in labels\n",
        "    # This is the inverse of label_to_index\n",
        "    return labels[index]\n",
        "\n",
        "\n",
        "word_start = \"yes\"\n",
        "index = label_to_index(word_start)\n",
        "word_recovered = index_to_label(index)\n",
        "\n",
        "print(word_start, \"-->\", index, \"-->\", word_recovered)"
      ]
    },
    {
      "cell_type": "markdown",
      "metadata": {},
      "source": [
        "To turn a list of data point made of audio recordings and utterances\n",
        "into two batched tensors for the model, we implement a collate function\n",
        "which is used by the PyTorch DataLoader that allows us to iterate over a\n",
        "dataset by batches. Please see [the\n",
        "documentation](https://pytorch.org/docs/stable/data.html#working-with-collate-fn)_\n",
        "for more information about working with a collate function.\n",
        "\n",
        "In the collate function, we also apply the resampling, and the text\n",
        "encoding.\n",
        "\n",
        "\n"
      ]
    },
    {
      "cell_type": "code",
      "execution_count": null,
      "metadata": {
        "collapsed": false
      },
      "outputs": [],
      "source": [
        "def pad_sequence(batch):\n",
        "    # Make all tensor in a batch the same length by padding with zeros\n",
        "    batch = [item.t() for item in batch]\n",
        "    batch = torch.nn.utils.rnn.pad_sequence(batch, batch_first=True, padding_value=0.)\n",
        "    return batch.permute(0, 2, 1)\n",
        "\n",
        "\n",
        "def collate_fn(batch):\n",
        "\n",
        "    # A data tuple has the form:\n",
        "    # waveform, sample_rate, label, speaker_id, utterance_number\n",
        "\n",
        "    tensors, targets = [], []\n",
        "\n",
        "    # Gather in lists, and encode labels as indices\n",
        "    for waveform, _, label, *_ in batch:\n",
        "        tensors += [waveform]\n",
        "        targets += [label_to_index(label)]\n",
        "\n",
        "    # Group the list of tensors into a batched tensor\n",
        "    tensors = pad_sequence(tensors)\n",
        "    targets = torch.stack(targets)\n",
        "\n",
        "    return tensors, targets\n",
        "\n",
        "\n",
        "batch_size = 256\n",
        "\n",
        "if device == \"cuda\":\n",
        "    num_workers = 1\n",
        "    pin_memory = True\n",
        "else:\n",
        "    num_workers = 0\n",
        "    pin_memory = False\n",
        "\n",
        "train_loader = torch.utils.data.DataLoader(\n",
        "    train_set,\n",
        "    batch_size=batch_size,\n",
        "    shuffle=True,\n",
        "    collate_fn=collate_fn,\n",
        "    num_workers=num_workers,\n",
        "    pin_memory=pin_memory,\n",
        ")\n",
        "test_loader = torch.utils.data.DataLoader(\n",
        "    test_set,\n",
        "    batch_size=batch_size,\n",
        "    shuffle=False,\n",
        "    drop_last=False,\n",
        "    collate_fn=collate_fn,\n",
        "    num_workers=num_workers,\n",
        "    pin_memory=pin_memory,\n",
        ")"
      ]
    },
    {
      "cell_type": "markdown",
      "metadata": {},
      "source": [
        "## Define the Network\n",
        "\n",
        "For this tutorial we will use a convolutional neural network to process\n",
        "the raw audio data. Usually more advanced transforms are applied to the\n",
        "audio data, however CNNs can be used to accurately process the raw data.\n",
        "The specific architecture is modeled after the M5 network architecture\n",
        "described in [this paper](https://arxiv.org/pdf/1610.00087.pdf)_. An\n",
        "important aspect of models processing raw audio data is the receptive\n",
        "field of their first layer’s filters. Our model’s first filter is length\n",
        "80 so when processing audio sampled at 8kHz the receptive field is\n",
        "around 10ms (and at 4kHz, around 20 ms). This size is similar to speech\n",
        "processing applications that often use receptive fields ranging from\n",
        "20ms to 40ms.\n",
        "\n",
        "\n"
      ]
    },
    {
      "cell_type": "code",
      "execution_count": null,
      "metadata": {
        "collapsed": false
      },
      "outputs": [],
      "source": [
        "class M5(nn.Module):\n",
        "    def __init__(self, n_input=1, n_output=35, stride=16, n_channel=32):\n",
        "        super().__init__()\n",
        "        self.conv1 = nn.Conv1d(n_input, n_channel, kernel_size=80, stride=stride)\n",
        "        self.bn1 = nn.BatchNorm1d(n_channel)\n",
        "        self.pool1 = nn.MaxPool1d(4)\n",
        "        self.conv2 = nn.Conv1d(n_channel, n_channel, kernel_size=3)\n",
        "        self.bn2 = nn.BatchNorm1d(n_channel)\n",
        "        self.pool2 = nn.MaxPool1d(4)\n",
        "        self.conv3 = nn.Conv1d(n_channel, 2 * n_channel, kernel_size=3)\n",
        "        self.bn3 = nn.BatchNorm1d(2 * n_channel)\n",
        "        self.pool3 = nn.MaxPool1d(4)\n",
        "        self.conv4 = nn.Conv1d(2 * n_channel, 2 * n_channel, kernel_size=3)\n",
        "        self.bn4 = nn.BatchNorm1d(2 * n_channel)\n",
        "        self.pool4 = nn.MaxPool1d(4)\n",
        "        self.fc1 = nn.Linear(2 * n_channel, n_output)\n",
        "\n",
        "    def forward(self, x):\n",
        "        x = self.conv1(x)\n",
        "        x = F.relu(self.bn1(x))\n",
        "        x = self.pool1(x)\n",
        "        x = self.conv2(x)\n",
        "        x = F.relu(self.bn2(x))\n",
        "        x = self.pool2(x)\n",
        "        x = self.conv3(x)\n",
        "        x = F.relu(self.bn3(x))\n",
        "        x = self.pool3(x)\n",
        "        x = self.conv4(x)\n",
        "        x = F.relu(self.bn4(x))\n",
        "        x = self.pool4(x)\n",
        "        x = F.avg_pool1d(x, x.shape[-1])\n",
        "        x = x.permute(0, 2, 1)\n",
        "        x = self.fc1(x)\n",
        "        return F.log_softmax(x, dim=2)\n",
        "\n",
        "\n",
        "model = M5(n_input=transformed.shape[0], n_output=len(labels))\n",
        "model.to(device)\n",
        "print(model)\n",
        "\n",
        "\n",
        "def count_parameters(model):\n",
        "    return sum(p.numel() for p in model.parameters() if p.requires_grad)\n",
        "\n",
        "\n",
        "n = count_parameters(model)\n",
        "print(\"Number of parameters: %s\" % n)"
      ]
    },
    {
      "cell_type": "markdown",
      "metadata": {},
      "source": [
        "We will use the same optimization technique used in the paper, an Adam\n",
        "optimizer with weight decay set to 0.0001. At first, we will train with\n",
        "a learning rate of 0.01, but we will use a ``scheduler`` to decrease it\n",
        "to 0.001 during training after 20 epochs.\n",
        "\n",
        "\n"
      ]
    },
    {
      "cell_type": "code",
      "execution_count": null,
      "metadata": {
        "collapsed": false
      },
      "outputs": [],
      "source": [
        "optimizer = optim.Adam(model.parameters(), lr=0.01, weight_decay=0.0001)\n",
        "scheduler = optim.lr_scheduler.StepLR(optimizer, step_size=20, gamma=0.1)  # reduce the learning after 20 epochs by a factor of 10"
      ]
    },
    {
      "cell_type": "markdown",
      "metadata": {},
      "source": [
        "## Training and Testing the Network\n",
        "\n",
        "Now let’s define a training function that will feed our training data\n",
        "into the model and perform the backward pass and optimization steps. For\n",
        "training, the loss we will use is the negative log-likelihood. The\n",
        "network will then be tested after each epoch to see how the accuracy\n",
        "varies during the training.\n",
        "\n",
        "\n"
      ]
    },
    {
      "cell_type": "code",
      "execution_count": null,
      "metadata": {
        "collapsed": false
      },
      "outputs": [],
      "source": [
        "def train(model, epoch, log_interval):\n",
        "    model.train()\n",
        "    for batch_idx, (data, target) in enumerate(train_loader):\n",
        "\n",
        "        data = data.to(device)\n",
        "        target = target.to(device)\n",
        "\n",
        "        # apply transform and model on whole batch directly on device\n",
        "        data = transform(data)\n",
        "        output = model(data)\n",
        "\n",
        "        # negative log-likelihood for a tensor of size (batch x 1 x n_output)\n",
        "        loss = F.nll_loss(output.squeeze(), target)\n",
        "\n",
        "        optimizer.zero_grad()\n",
        "        loss.backward()\n",
        "        optimizer.step()\n",
        "\n",
        "        # print training stats\n",
        "        if batch_idx % log_interval == 0:\n",
        "            print(f\"Train Epoch: {epoch} [{batch_idx * len(data)}/{len(train_loader.dataset)} ({100. * batch_idx / len(train_loader):.0f}%)]\\tLoss: {loss.item():.6f}\")\n",
        "\n",
        "        # update progress bar\n",
        "        pbar.update(pbar_update)\n",
        "        # record loss\n",
        "        losses.append(loss.item())"
      ]
    },
    {
      "cell_type": "markdown",
      "metadata": {},
      "source": [
        "Now that we have a training function, we need to make one for testing\n",
        "the networks accuracy. We will set the model to ``eval()`` mode and then\n",
        "run inference on the test dataset. Calling ``eval()`` sets the training\n",
        "variable in all modules in the network to false. Certain layers like\n",
        "batch normalization and dropout layers behave differently during\n",
        "training so this step is crucial for getting correct results.\n",
        "\n",
        "\n"
      ]
    },
    {
      "cell_type": "code",
      "execution_count": null,
      "metadata": {
        "collapsed": false
      },
      "outputs": [],
      "source": [
        "def number_of_correct(pred, target):\n",
        "    # count number of correct predictions\n",
        "    return pred.squeeze().eq(target).sum().item()\n",
        "\n",
        "\n",
        "def get_likely_index(tensor):\n",
        "    # find most likely label index for each element in the batch\n",
        "    return tensor.argmax(dim=-1)\n",
        "\n",
        "\n",
        "def test(model, epoch):\n",
        "    model.eval()\n",
        "    correct = 0\n",
        "    for data, target in test_loader:\n",
        "\n",
        "        data = data.to(device)\n",
        "        target = target.to(device)\n",
        "\n",
        "        # apply transform and model on whole batch directly on device\n",
        "        data = transform(data)\n",
        "        output = model(data)\n",
        "\n",
        "        pred = get_likely_index(output)\n",
        "        correct += number_of_correct(pred, target)\n",
        "\n",
        "        # update progress bar\n",
        "        pbar.update(pbar_update)\n",
        "\n",
        "    print(f\"\\nTest Epoch: {epoch}\\tAccuracy: {correct}/{len(test_loader.dataset)} ({100. * correct / len(test_loader.dataset):.0f}%)\\n\")"
      ]
    },
    {
      "cell_type": "markdown",
      "metadata": {},
      "source": [
        "Finally, we can train and test the network. We will train the network\n",
        "for ten epochs then reduce the learn rate and train for ten more epochs.\n",
        "The network will be tested after each epoch to see how the accuracy\n",
        "varies during the training.\n",
        "\n",
        "\n"
      ]
    },
    {
      "cell_type": "code",
      "execution_count": null,
      "metadata": {
        "collapsed": false
      },
      "outputs": [],
      "source": [
        "log_interval = 20\n",
        "n_epoch = 2\n",
        "\n",
        "pbar_update = 1 / (len(train_loader) + len(test_loader))\n",
        "losses = []\n",
        "\n",
        "# The transform needs to live on the same device as the model and the data.\n",
        "transform = transform.to(device)\n",
        "with tqdm(total=n_epoch) as pbar:\n",
        "    for epoch in range(1, n_epoch + 1):\n",
        "        train(model, epoch, log_interval)\n",
        "        test(model, epoch)\n",
        "        scheduler.step()\n",
        "\n",
        "# Let's plot the training loss versus the number of iteration.\n",
        "# plt.plot(losses);\n",
        "# plt.title(\"training loss\");"
      ]
    },
    {
      "cell_type": "markdown",
      "metadata": {},
      "source": [
        "The network should be more than 65% accurate on the test set after 2\n",
        "epochs, and 85% after 21 epochs. Let’s look at the last words in the\n",
        "train set, and see how the model did on it.\n",
        "\n",
        "\n"
      ]
    },
    {
      "cell_type": "code",
      "execution_count": null,
      "metadata": {
        "collapsed": false
      },
      "outputs": [],
      "source": [
        "def predict(tensor):\n",
        "    # Use the model to predict the label of the waveform\n",
        "    tensor = tensor.to(device)\n",
        "    tensor = transform(tensor)\n",
        "    tensor = model(tensor.unsqueeze(0))\n",
        "    tensor = get_likely_index(tensor)\n",
        "    tensor = index_to_label(tensor.squeeze())\n",
        "    return tensor\n",
        "\n",
        "\n",
        "waveform, sample_rate, utterance, *_ = train_set[-1]\n",
        "ipd.Audio(waveform.numpy(), rate=sample_rate)\n",
        "\n",
        "print(f\"Expected: {utterance}. Predicted: {predict(waveform)}.\")"
      ]
    },
    {
      "cell_type": "markdown",
      "metadata": {},
      "source": [
        "Let’s find an example that isn’t classified correctly, if there is one.\n",
        "\n",
        "\n"
      ]
    },
    {
      "cell_type": "code",
      "execution_count": null,
      "metadata": {
        "collapsed": false
      },
      "outputs": [],
      "source": [
        "for i, (waveform, sample_rate, utterance, *_) in enumerate(test_set):\n",
        "    output = predict(waveform)\n",
        "    if output != utterance:\n",
        "        ipd.Audio(waveform.numpy(), rate=sample_rate)\n",
        "        print(f\"Data point #{i}. Expected: {utterance}. Predicted: {output}.\")\n",
        "        break\n",
        "else:\n",
        "    print(\"All examples in this dataset were correctly classified!\")\n",
        "    print(\"In this case, let's just look at the last data point\")\n",
        "    ipd.Audio(waveform.numpy(), rate=sample_rate)\n",
        "    print(f\"Data point #{i}. Expected: {utterance}. Predicted: {output}.\")"
      ]
    },
    {
      "cell_type": "markdown",
      "metadata": {},
      "source": [
        "Feel free to try with one of your own recordings of one of the labels!\n",
        "For example, using Colab, say “Go” while executing the cell below. This\n",
        "will record one second of audio and try to classify it.\n",
        "\n",
        "\n"
      ]
    },
    {
      "cell_type": "code",
      "execution_count": null,
      "metadata": {
        "collapsed": false
      },
      "outputs": [],
      "source": [
        "def record(seconds=1):\n",
        "\n",
        "    from google.colab import output as colab_output\n",
        "    from base64 import b64decode\n",
        "    from io import BytesIO\n",
        "    from pydub import AudioSegment\n",
        "\n",
        "    RECORD = (\n",
        "        b\"const sleep  = time => new Promise(resolve => setTimeout(resolve, time))\\n\"\n",
        "        b\"const b2text = blob => new Promise(resolve => {\\n\"\n",
        "        b\"  const reader = new FileReader()\\n\"\n",
        "        b\"  reader.onloadend = e => resolve(e.srcElement.result)\\n\"\n",
        "        b\"  reader.readAsDataURL(blob)\\n\"\n",
        "        b\"})\\n\"\n",
        "        b\"var record = time => new Promise(async resolve => {\\n\"\n",
        "        b\"  stream = await navigator.mediaDevices.getUserMedia({ audio: true })\\n\"\n",
        "        b\"  recorder = new MediaRecorder(stream)\\n\"\n",
        "        b\"  chunks = []\\n\"\n",
        "        b\"  recorder.ondataavailable = e => chunks.push(e.data)\\n\"\n",
        "        b\"  recorder.start()\\n\"\n",
        "        b\"  await sleep(time)\\n\"\n",
        "        b\"  recorder.onstop = async ()=>{\\n\"\n",
        "        b\"    blob = new Blob(chunks)\\n\"\n",
        "        b\"    text = await b2text(blob)\\n\"\n",
        "        b\"    resolve(text)\\n\"\n",
        "        b\"  }\\n\"\n",
        "        b\"  recorder.stop()\\n\"\n",
        "        b\"})\"\n",
        "    )\n",
        "    RECORD = RECORD.decode(\"ascii\")\n",
        "\n",
        "    print(f\"Recording started for {seconds} seconds.\")\n",
        "    display(ipd.Javascript(RECORD))\n",
        "    s = colab_output.eval_js(\"record(%d)\" % (seconds * 1000))\n",
        "    print(\"Recording ended.\")\n",
        "    b = b64decode(s.split(\",\")[1])\n",
        "\n",
        "    fileformat = \"wav\"\n",
        "    filename = f\"_audio.{fileformat}\"\n",
        "    AudioSegment.from_file(BytesIO(b)).export(filename, format=fileformat)\n",
        "    return torchaudio.load(filename)\n",
        "\n",
        "\n",
        "# Detect whether notebook runs in google colab\n",
        "if \"google.colab\" in sys.modules:\n",
        "    waveform, sample_rate = record()\n",
        "    print(f\"Predicted: {predict(waveform)}.\")\n",
        "    ipd.Audio(waveform.numpy(), rate=sample_rate)"
      ]
    },
    {
      "cell_type": "markdown",
      "metadata": {},
      "source": [
        "## Conclusion\n",
        "\n",
        "In this tutorial, we used torchaudio to load a dataset and resample the\n",
        "signal. We have then defined a neural network that we trained to\n",
        "recognize a given command. There are also other data preprocessing\n",
        "methods, such as finding the mel frequency cepstral coefficients (MFCC),\n",
        "that can reduce the size of the dataset. This transform is also\n",
        "available in torchaudio as ``torchaudio.transforms.MFCC``.\n",
        "\n",
        "\n"
      ]
    }
  ],
  "metadata": {
    "kernelspec": {
      "display_name": "Python 3",
      "language": "python",
      "name": "python3"
    },
    "language_info": {
      "codemirror_mode": {
        "name": "ipython",
        "version": 3
      },
      "file_extension": ".py",
      "mimetype": "text/x-python",
      "name": "python",
      "nbconvert_exporter": "python",
      "pygments_lexer": "ipython3",
      "version": "3.11.4"
    }
  },
  "nbformat": 4,
  "nbformat_minor": 0
}
