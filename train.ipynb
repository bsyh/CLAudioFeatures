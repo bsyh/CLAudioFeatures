{
  "cells": [
    {
      "cell_type": "code",
      "execution_count": 1,
      "metadata": {
        "collapsed": false
      },
      "outputs": [],
      "source": [
        "%matplotlib inline"
      ]
    },
    {
      "cell_type": "markdown",
      "metadata": {},
      "source": [
        "\n",
        "# Cognitive Load Classification\n",
        "\n",
        "ensure Pytorch and Torchaudio is installed.\n"
      ]
    },
    {
      "cell_type": "code",
      "execution_count": 2,
      "metadata": {
        "collapsed": false
      },
      "outputs": [],
      "source": [
        "\n",
        "import torch\n",
        "import torch.nn as nn\n",
        "import torch.nn.functional as F\n",
        "import torchaudio.transforms as T\n",
        "import torch.optim as optim\n",
        "import torchaudio\n",
        "import numpy as np\n",
        "import sys, os\n",
        "\n",
        "import matplotlib.pyplot as plt\n",
        "import IPython.display as ipd\n",
        "\n",
        "from tqdm import tqdm\n",
        "\n",
        "import random"
      ]
    },
    {
      "cell_type": "markdown",
      "metadata": {},
      "source": [
        "Let’s check if a CUDA GPU is available and select our device. Running\n",
        "the network on a GPU will greatly decrease the training/testing runtime.\n",
        "\n",
        "\n"
      ]
    },
    {
      "cell_type": "code",
      "execution_count": 3,
      "metadata": {
        "collapsed": false
      },
      "outputs": [
        {
          "name": "stdout",
          "output_type": "stream",
          "text": [
            "cuda\n"
          ]
        }
      ],
      "source": [
        "device = torch.device(\"cuda\" if torch.cuda.is_available() else \"cpu\")\n",
        "print(device)"
      ]
    },
    {
      "cell_type": "markdown",
      "metadata": {},
      "source": [
        "## Importing the Dataset\n",
        "\n",
        "If you haven't down AVCAffe dataset, please refer to\n",
        "[AVCAffe](https://github.com/pritamqu/AVCAffe), data structure can be seen from [Arxiv](https://arxiv.org/abs/2205.06887).\n",
        "This notebook is based on Pytorch's [speech_command_classification_with_torchaudio](https://pytorch.org/tutorials/intermediate/speech_command_classification_with_torchaudio_tutorial.html)\n",
        "\n",
        "The data loader in this git is modified for the BioPhysics project.\n",
        "\n",
        "\n"
      ]
    },
    {
      "cell_type": "markdown",
      "metadata": {},
      "source": [
        "set dataset directory\n"
      ]
    },
    {
      "cell_type": "code",
      "execution_count": 4,
      "metadata": {},
      "outputs": [
        {
          "name": "stdout",
          "output_type": "stream",
          "text": [
            "/home/hushouyue0928/CLAudioFeatures\n"
          ]
        }
      ],
      "source": [
        "PROJECT_PATH = os.getcwd()\n",
        "AVCAFFE_PATH =  os.path.join(PROJECT_PATH, \"AVCAffe\")\n",
        "print(PROJECT_PATH)"
      ]
    },
    {
      "cell_type": "markdown",
      "metadata": {},
      "source": [
        "load dataset for train and test"
      ]
    },
    {
      "cell_type": "code",
      "execution_count": 5,
      "metadata": {},
      "outputs": [
        {
          "name": "stdout",
          "output_type": "stream",
          "text": [
            "audio segment list: ['aiim104', 'aiim072', 'aiim021', 'aiim079', 'aiim008', 'aiim076', 'aiim052', 'aiim107', 'aiim020', 'aiim033', 'aiim006', 'aiim059', 'aiim030', 'aiim012', 'aiim047', 'aiim100', 'aiim081', 'aiim040', 'aiim049', 'aiim001', 'aiim080', 'aiim073', 'aiim068', 'aiim057', 'aiim027', 'aiim064', 'aiim023', 'aiim102', 'aiim062', 'aiim077', 'aiim032', 'aiim038', 'aiim089', 'aiim010', 'aiim042', 'aiim014', 'aiim098', 'aiim031', 'aiim029', 'aiim011', 'aiim106', 'aiim056', 'aiim066', 'aiim083', 'aiim025', 'aiim024', 'aiim063', 'aiim044', 'aiim065', 'aiim087', 'aiim009', 'aiim022', 'aiim002', 'aiim013', 'aiim034', 'aiim019', 'aiim055', 'aiim037', 'aiim082', 'aiim054', 'aiim046', 'aiim017', 'aiim084', 'aiim070', 'aiim088', 'aiim071', 'aiim075', 'aiim078', 'aiim028', 'aiim061', 'aiim095', 'aiim091', 'aiim048', 'aiim092', 'aiim060', 'aiim085', 'aiim005', 'aiim043', 'aiim108', 'aiim039', 'aiim036', 'aiim090', 'aiim067', 'aiim074', 'aiim058', 'aiim105', 'aiim103', 'aiim050', 'aiim069', 'aiim007', 'aiim097', 'aiim045', 'aiim018', 'aiim086', 'aiim026', 'aiim051', 'aiim093', 'aiim035', 'aiim041', 'aiim053', 'aiim094', 'aiim015', 'aiim016', 'aiim099', 'aiim096', 'aiim101']\n",
            "loaded 32296 \ttrain\n",
            "loaded 7166 \tvalidation\n"
          ]
        }
      ],
      "source": [
        "random.seed(0)\n",
        "\n",
        "os.chdir(os.path.join(AVCAFFE_PATH, \"codes\",\"dataloader\"))\n",
        "from AVCAffe.codes.dataloader.avcaffe_vid import AVCAffe\n",
        "os.chdir(PROJECT_PATH)\n",
        "\n",
        "DB_PATH = os.path.join(AVCAFFE_PATH, \"data\")\n",
        "shorter_segments = os.path.join(DB_PATH, 'videos', 'shorter_segments')\n",
        "print( \"audio segment list:\", os.listdir( shorter_segments) )\n",
        "\n",
        "sample_rate = 8000\n",
        "sample_rate_orig = 16000\n",
        "duration = 1.\n",
        "\n",
        "train_set = AVCAffe(DB_PATH,\n",
        "             subset='train',\n",
        "             return_video=False,\n",
        "             video_clip_duration=duration,\n",
        "             video_fps=16.,\n",
        "             return_audio=True,\n",
        "             audio_clip_duration=duration,\n",
        "             audio_fps=sample_rate_orig,\n",
        "             return_labels=True,\n",
        "             audio_must=True,\n",
        "             cogload_class_type='4-tier',\n",
        "             class_name='mental_demand',\n",
        "             mode='clip',\n",
        "             clips_per_video=1,\n",
        "             )\n",
        "print('loaded', len(train_set), '\\ttrain')\n",
        "\n",
        "val_set = AVCAffe(DB_PATH,\n",
        "             subset='val',\n",
        "             return_video=False,\n",
        "             video_clip_duration=duration,\n",
        "             video_fps=16.,\n",
        "             return_audio=True,\n",
        "             audio_clip_duration=duration,\n",
        "             audio_fps=sample_rate_orig,\n",
        "             return_labels=True,\n",
        "             audio_must=True,\n",
        "             cogload_class_type='4-tier',\n",
        "             class_name='mental_demand',\n",
        "             mode='clip',\n",
        "             clips_per_video=1,\n",
        "             )\n",
        "print('loaded', len(val_set), '\\tvalidation')\n"
      ]
    },
    {
      "cell_type": "markdown",
      "metadata": {},
      "source": [
        "Preview the first waveform from dataset (the audio signal) and it's corresponding label\n",
        "\n",
        "\n"
      ]
    },
    {
      "cell_type": "code",
      "execution_count": 6,
      "metadata": {},
      "outputs": [
        {
          "name": "stdout",
          "output_type": "stream",
          "text": [
            "1 \n",
            " [-6.10370190e-05 -3.05185095e-05  0.00000000e+00 ...  2.13629566e-04\n",
            "  1.83111057e-04  1.83111057e-04]\n"
          ]
        },
        {
          "data": {
            "text/plain": [
              "[<matplotlib.lines.Line2D at 0x7f9c36d9b250>]"
            ]
          },
          "execution_count": 6,
          "metadata": {},
          "output_type": "execute_result"
        },
        {
          "data": {
            "image/png": "[encoded data removed]",
            "text/plain": [
              "<Figure size 640x480 with 1 Axes>"
            ]
          },
          "metadata": {},
          "output_type": "display_data"
        }
      ],
      "source": [
        "example = train_set[0]\n",
        "print(example['label'],'\\n',example['audio'][0])\n",
        "plt.plot(example['audio'][0])"
      ]
    },
    {
      "cell_type": "markdown",
      "metadata": {},
      "source": [
        "The 35 audio labels are commands that are said by users. The first few\n",
        "files are people saying “marvin”."
      ]
    },
    {
      "cell_type": "markdown",
      "metadata": {},
      "source": [
        "set labels list"
      ]
    },
    {
      "cell_type": "code",
      "execution_count": 7,
      "metadata": {},
      "outputs": [
        {
          "name": "stdout",
          "output_type": "stream",
          "text": [
            "[0, 1, 2, 3]\n"
          ]
        }
      ],
      "source": [
        "labels = [i for i in range(4)]\n",
        "print(labels)"
      ]
    },
    {
      "cell_type": "markdown",
      "metadata": {},
      "source": [
        "define audio wave transformation function"
      ]
    },
    {
      "cell_type": "code",
      "execution_count": 8,
      "metadata": {
        "collapsed": false
      },
      "outputs": [
        {
          "data": {
            "text/html": [
              "\n",
              "                <audio  controls=\"controls\" >\n",
              "                    <source src=\"data:audio/wav;base64,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\" type=\"audio/wav\" />\n",
              "                    Your browser does not support the audio element.\n",
              "                </audio>\n",
              "              "
            ],
            "text/plain": [
              "<IPython.lib.display.Audio object>"
            ]
          },
          "execution_count": 8,
          "metadata": {},
          "output_type": "execute_result"
        }
      ],
      "source": [
        "waveform_first = train_set[0]['audio']\n",
        "resample = torchaudio.transforms.Resample(orig_freq=sample_rate_orig, new_freq=sample_rate)\n",
        "\n",
        "\n",
        "n_fft = 2048\n",
        "win_length = None\n",
        "hop_length = 512\n",
        "n_mels = 256\n",
        "n_mfcc = 40\n",
        "\n",
        "transform = T.MFCC(\n",
        "    sample_rate=sample_rate_orig,\n",
        "    n_mfcc=n_mfcc,\n",
        "    melkwargs={\n",
        "        \"n_fft\": n_fft,\n",
        "        \"n_mels\": n_mels,\n",
        "        \"hop_length\": hop_length,\n",
        "        \"mel_scale\": \"htk\",\n",
        "    },\n",
        ")\n",
        "\n",
        "\n",
        "ipd.Audio(waveform_first, rate=sample_rate)"
      ]
    },
    {
      "cell_type": "markdown",
      "metadata": {},
      "source": [
        "## Formatting the Data\n",
        "\n",
        "Helper functions\n",
        "\n",
        "\n"
      ]
    },
    {
      "cell_type": "markdown",
      "metadata": {},
      "source": [
        "We are encoding each word using its index in the list of labels.\n",
        "\n",
        "\n"
      ]
    },
    {
      "cell_type": "code",
      "execution_count": 9,
      "metadata": {
        "collapsed": false
      },
      "outputs": [
        {
          "name": "stdout",
          "output_type": "stream",
          "text": [
            "1 --> tensor(1) --> 1\n"
          ]
        }
      ],
      "source": [
        "def label_to_index(label):\n",
        "    # Return the position of the word in labels\n",
        "    return torch.tensor(labels.index(label))\n",
        "\n",
        "\n",
        "def index_to_label(label):\n",
        "    # Return the word corresponding to the index in labels\n",
        "    # This is the inverse of label_to_index\n",
        "    return labels[label]\n",
        "\n",
        "label_first = train_set[0]['label']\n",
        "index = label_to_index(label_first)\n",
        "label_recovered = index_to_label(index)\n",
        "\n",
        "print(label_first, \"-->\", index, \"-->\", label_recovered)"
      ]
    },
    {
      "cell_type": "markdown",
      "metadata": {},
      "source": [
        "To turn a list of data point made of audio recordings and utterancesinto two batched tensors for the model, we implement a collate functionwhich is used by the PyTorch DataLoader that allows us to iterate over adataset by batches. Please see [the documentation](https://pytorch.org/docs/stable/data.html#working-with-collate-fn) for more information about working with a collate function.\n",
        "\n",
        "resampling, and the textencoding.\n",
        "\n",
        "\n"
      ]
    },
    {
      "cell_type": "code",
      "execution_count": 10,
      "metadata": {
        "collapsed": false
      },
      "outputs": [],
      "source": [
        "def pad_sequence(batch):\n",
        "    # Make all tensor in a batch the same length by padding with zeros\n",
        "    # batch = [item.t() for item in batch]\n",
        "    batch = torch.nn.utils.rnn.pad_sequence(batch, batch_first=True, padding_value=0.)\n",
        "    \n",
        "    return batch.permute(0, 2, 1)\n",
        "\n",
        "\n",
        "def collate_fn(batch):\n",
        "\n",
        "    # A data tuple has the form:\n",
        "    # waveform, sample_rate, label, speaker_id, utterance_number\n",
        "\n",
        "    tensors, targets = [], []\n",
        "\n",
        "    # Gather in lists, and encode labels as indices\n",
        "    for i in range(len(batch)):\n",
        "        waveform = torch.from_numpy(batch[i]['audio']).t()\n",
        "        # print(\"waveform:\",waveform.size())\n",
        "        tensors += [waveform]\n",
        "        targets += [label_to_index(batch[i]['label'])]\n",
        "    \n",
        "\n",
        "    # Group the list of tensors into a batched tensor\n",
        "    tensors = pad_sequence(tensors)\n",
        "    targets = torch.stack(targets)\n",
        "\n",
        "    return tensors, targets\n",
        "\n",
        "\n",
        "batch_size = 512\n",
        "\n",
        "if device == \"cuda\":\n",
        "    num_workers = 1\n",
        "    pin_memory = True\n",
        "else:\n",
        "    num_workers = 0\n",
        "    pin_memory = False\n",
        "\n",
        "train_loader = torch.utils.data.DataLoader(\n",
        "    train_set,\n",
        "    batch_size=batch_size,\n",
        "    shuffle=True,\n",
        "    collate_fn=collate_fn,\n",
        "    num_workers=num_workers,\n",
        "    pin_memory=pin_memory,\n",
        ")\n",
        "test_loader = torch.utils.data.DataLoader(\n",
        "    val_set,\n",
        "    batch_size=batch_size,\n",
        "    shuffle=False,\n",
        "    drop_last=False,\n",
        "    collate_fn=collate_fn,\n",
        "    num_workers=num_workers,\n",
        "    pin_memory=pin_memory,\n",
        ")"
      ]
    },
    {
      "cell_type": "markdown",
      "metadata": {},
      "source": [
        "## Define the Network\n",
        "\n",
        "The specific architecture is modeled after the M5 network architecture\n",
        "described in [this paper](https://arxiv.org/pdf/1610.00087.pdf)_. An\n",
        "important aspect of models processing raw audio data is the receptive\n",
        "field of their first layer’s filters. Our model’s first filter is length\n",
        "80 so when processing audio sampled at 8kHz the receptive field is\n",
        "around 10ms (and at 4kHz, around 20 ms). This size is similar to speech\n",
        "processing applications that often use receptive fields ranging from\n",
        "20ms to 40ms.\n",
        "\n",
        "\n"
      ]
    },
    {
      "cell_type": "code",
      "execution_count": 11,
      "metadata": {
        "collapsed": false
      },
      "outputs": [
        {
          "name": "stdout",
          "output_type": "stream",
          "text": [
            "M5(\n",
            "  (conv1): Conv1d(1, 32, kernel_size=(80,), stride=(16,))\n",
            "  (bn1): BatchNorm1d(32, eps=1e-05, momentum=0.1, affine=True, track_running_stats=True)\n",
            "  (pool1): MaxPool1d(kernel_size=4, stride=4, padding=0, dilation=1, ceil_mode=False)\n",
            "  (conv2): Conv1d(32, 32, kernel_size=(3,), stride=(1,))\n",
            "  (bn2): BatchNorm1d(32, eps=1e-05, momentum=0.1, affine=True, track_running_stats=True)\n",
            "  (pool2): MaxPool1d(kernel_size=4, stride=4, padding=0, dilation=1, ceil_mode=False)\n",
            "  (conv3): Conv1d(32, 64, kernel_size=(3,), stride=(1,))\n",
            "  (bn3): BatchNorm1d(64, eps=1e-05, momentum=0.1, affine=True, track_running_stats=True)\n",
            "  (pool3): MaxPool1d(kernel_size=4, stride=4, padding=0, dilation=1, ceil_mode=False)\n",
            "  (conv4): Conv1d(64, 64, kernel_size=(3,), stride=(1,))\n",
            "  (bn4): BatchNorm1d(64, eps=1e-05, momentum=0.1, affine=True, track_running_stats=True)\n",
            "  (pool4): MaxPool1d(kernel_size=4, stride=4, padding=0, dilation=1, ceil_mode=False)\n",
            "  (fc1): Linear(in_features=64, out_features=4, bias=True)\n",
            ")\n",
            "Number of parameters: 24900\n"
          ]
        }
      ],
      "source": [
        "class M5(nn.Module):\n",
        "    def __init__(self, n_input=1, n_output=35, stride=16, n_channel=32):\n",
        "        super().__init__()\n",
        "        self.conv1 = nn.Conv1d(n_input, n_channel, kernel_size=80, stride=stride)\n",
        "        self.bn1 = nn.BatchNorm1d(n_channel)\n",
        "        self.pool1 = nn.MaxPool1d(4)\n",
        "        self.conv2 = nn.Conv1d(n_channel, n_channel, kernel_size=3)\n",
        "        self.bn2 = nn.BatchNorm1d(n_channel)\n",
        "        self.pool2 = nn.MaxPool1d(4)\n",
        "        self.conv3 = nn.Conv1d(n_channel, 2 * n_channel, kernel_size=3)\n",
        "        self.bn3 = nn.BatchNorm1d(2 * n_channel)\n",
        "        self.pool3 = nn.MaxPool1d(4)\n",
        "        self.conv4 = nn.Conv1d(2 * n_channel, 2 * n_channel, kernel_size=3)\n",
        "        self.bn4 = nn.BatchNorm1d(2 * n_channel)\n",
        "        self.pool4 = nn.MaxPool1d(4)\n",
        "        self.fc1 = nn.Linear(2 * n_channel, n_output)\n",
        "\n",
        "    def forward(self, x):\n",
        "        x = self.conv1(x)\n",
        "        x = F.relu(self.bn1(x))\n",
        "        x = self.pool1(x)\n",
        "        x = self.conv2(x)\n",
        "        x = F.relu(self.bn2(x))\n",
        "        x = self.pool2(x)\n",
        "        x = self.conv3(x)\n",
        "        x = F.relu(self.bn3(x))\n",
        "        x = self.pool3(x)\n",
        "        x = self.conv4(x)\n",
        "        x = F.relu(self.bn4(x))\n",
        "        x = self.pool4(x)\n",
        "        x = F.avg_pool1d(x, x.shape[-1])\n",
        "        x = x.permute(0, 2, 1)\n",
        "        x = self.fc1(x)\n",
        "        return F.log_softmax(x, dim=2)\n",
        "\n",
        "\n",
        "# model = M5(n_input=n_mfcc, n_output=len(labels))\n",
        "model = M5(n_input=waveform_first.shape[0], n_output=len(labels))\n",
        "model.to(device)\n",
        "print(model)\n",
        "\n",
        "\n",
        "def count_parameters(model):\n",
        "    return sum(p.numel() for p in model.parameters() if p.requires_grad)\n",
        "\n",
        "\n",
        "n = count_parameters(model)\n",
        "print(\"Number of parameters: %s\" % n)"
      ]
    },
    {
      "cell_type": "markdown",
      "metadata": {},
      "source": [
        "We will use the same optimization technique used in the paper, an Adam\n",
        "optimizer with weight decay set to 0.0001. At first, we will train with\n",
        "a learning rate of 0.001, but we will use a ``scheduler`` to decrease it\n",
        "to 0.001 during training after 20 epochs.\n",
        "\n",
        "\n"
      ]
    },
    {
      "cell_type": "code",
      "execution_count": 12,
      "metadata": {
        "collapsed": false
      },
      "outputs": [],
      "source": [
        "optimizer = optim.Adam(model.parameters(), lr=0.01, weight_decay=0.001)\n",
        "scheduler = optim.lr_scheduler.StepLR(optimizer, step_size=20, gamma=0.1)  # reduce the learning after 20 epochs by a factor of 10"
      ]
    },
    {
      "cell_type": "markdown",
      "metadata": {},
      "source": [
        "## Training and Testing the Network\n",
        "\n",
        "Now let’s define a training function that will feed our training data\n",
        "into the model and perform the backward pass and optimization steps. For\n",
        "training, the loss we will use is the negative log-likelihood. The\n",
        "network will then be tested after each epoch to see how the accuracy\n",
        "varies during the training.\n",
        "\n",
        "\n"
      ]
    },
    {
      "cell_type": "code",
      "execution_count": 13,
      "metadata": {
        "collapsed": false
      },
      "outputs": [],
      "source": [
        "def train(model, epoch, log_interval):\n",
        "    model.train()\n",
        "    for batch_idx, (data, target) in enumerate(train_loader):\n",
        "\n",
        "        data = data.to(device,dtype=torch.float)\n",
        "        target = target.to(device)\n",
        "\n",
        "        # apply transform and model on whole batch directly on device\n",
        "        data = resample(data)\n",
        "        output = model(data)\n",
        "\n",
        "        # negative log-likelihood for a tensor of size (batch x 1 x n_output)\n",
        "        loss = F.nll_loss(output.squeeze(), target)\n",
        "\n",
        "        optimizer.zero_grad()\n",
        "        loss.backward()\n",
        "        optimizer.step()\n",
        "\n",
        "        # print training stats\n",
        "        if batch_idx % log_interval == 0:\n",
        "            print(f\"Train Epoch: {epoch} [{batch_idx * len(data)}/{len(train_loader.dataset)} ({100. * batch_idx / len(train_loader):.0f}%)]\\tLoss: {loss.item():.6f}\")\n",
        "\n",
        "        # update progress bar\n",
        "        pbar.update(pbar_update)\n",
        "        # record loss\n",
        "        losses.append(loss.item())"
      ]
    },
    {
      "cell_type": "markdown",
      "metadata": {},
      "source": [
        "Now that we have a training function, we need to make one for testing\n",
        "the networks accuracy. We will set the model to ``eval()`` mode and then\n",
        "run inference on the test dataset. Calling ``eval()`` sets the training\n",
        "variable in all modules in the network to false. Certain layers like\n",
        "batch normalization and dropout layers behave differently during\n",
        "training so this step is crucial for getting correct results.\n",
        "\n",
        "\n"
      ]
    },
    {
      "cell_type": "code",
      "execution_count": 14,
      "metadata": {
        "collapsed": false
      },
      "outputs": [],
      "source": [
        "def number_of_correct(pred, target):\n",
        "    # count number of correct predictions\n",
        "    return pred.squeeze().eq(target).sum().item()\n",
        "\n",
        "\n",
        "def get_likely_index(tensor):\n",
        "    # find most likely label index for each element in the batch\n",
        "    return tensor.argmax(dim=-1)\n",
        "\n",
        "\n",
        "def test(model, epoch):\n",
        "    model.eval()\n",
        "    correct = 0\n",
        "    for data, target in test_loader:\n",
        "\n",
        "        data = data.to(device,dtype=torch.float)\n",
        "        target = target.to(device)\n",
        "\n",
        "        # apply transform and model on whole batch directly on device\n",
        "        data = resample(data)\n",
        "        output = model(data)\n",
        "\n",
        "        pred = get_likely_index(output)\n",
        "        correct += number_of_correct(pred, target)\n",
        "\n",
        "        loss = F.nll_loss(output.squeeze(), target)\n",
        "\n",
        "        # update progress bar\n",
        "        pbar.update(pbar_update)\n",
        "\n",
        "    print(f\"\\nTest Epoch: {epoch}\\tAccuracy: {correct}/{len(test_loader.dataset)} ({100. * correct / len(test_loader.dataset):.0f}%)\\tLoss: {loss.item():.6f}\\n\")"
      ]
    },
    {
      "cell_type": "markdown",
      "metadata": {},
      "source": [
        "Finally, we can train and test the network. We will train the network\n",
        "for ten epochs then reduce the learn rate and train for ten more epochs.\n",
        "The network will be tested after each epoch to see how the accuracy\n",
        "varies during the training.\n",
        "\n",
        "\n"
      ]
    },
    {
      "cell_type": "code",
      "execution_count": 15,
      "metadata": {},
      "outputs": [],
      "source": [
        "# for i in range(len(train_set)):\n",
        "#     a = train_set[i]['audio']\n",
        "#     if a.shape[0]!=1 or a.shape[1]!=8000:\n",
        "#         print(\"no\", a.shape)"
      ]
    },
    {
      "cell_type": "code",
      "execution_count": 16,
      "metadata": {
        "collapsed": false
      },
      "outputs": [
        {
          "name": "stderr",
          "output_type": "stream",
          "text": [
            "  0%|          | 0/30 [00:00<?, ?it/s]/home/hushouyue0928/mambaforge/envs/claudio/lib/python3.11/site-packages/torchaudio/functional/functional.py:1551: UserWarning: Applied workaround for CuDNN issue, install nvrtc.so (Triggered internally at /opt/conda/conda-bld/pytorch_1682343995622/work/aten/src/ATen/native/cudnn/Conv_v8.cpp:80.)\n",
            "  resampled = torch.nn.functional.conv1d(waveform[:, None], kernel, stride=orig_freq)\n",
            "  0%|          | 0.0016207455429497568/30 [00:01<6:55:19, 830.71s/it]"
          ]
        },
        {
          "name": "stdout",
          "output_type": "stream",
          "text": [
            "Train Epoch: 1 [0/32296 (0%)]\tLoss: 1.574923\n"
          ]
        },
        {
          "name": "stderr",
          "output_type": "stream",
          "text": [
            "  0%|          | 0.025931928687196112/30 [00:15<5:03:42, 607.94s/it] "
          ]
        }
      ],
      "source": [
        "log_interval = 20\n",
        "n_epoch = 30\n",
        "\n",
        "pbar_update = 1 / (len(train_loader) + len(test_loader))\n",
        "losses = []\n",
        "\n",
        "# The transform needs to live on the same device as the model and the data.\n",
        "resample = resample.to(device)\n",
        "with tqdm(total=n_epoch) as pbar:\n",
        "    for epoch in range(1, n_epoch + 1):\n",
        "        train(model, epoch, log_interval)\n",
        "        test(model, epoch)\n",
        "        scheduler.step()\n"
      ]
    },
    {
      "cell_type": "markdown",
      "metadata": {},
      "source": [
        "save model to file"
      ]
    },
    {
      "cell_type": "code",
      "execution_count": null,
      "metadata": {},
      "outputs": [],
      "source": [
        "import pickle as pkl\n",
        "\n",
        "epoch_trained = 30\n",
        "#to save it\n",
        "with open(f\"epoch/model_epoch_{epoch_trained}.pkl\", \"wb\") as f:\n",
        "    pkl.dump(model, f)\n",
        "\n",
        "#to load it\n",
        "with open(f\"epoch/model_epoch_{epoch_trained}.pkl\", \"rb\") as f:\n",
        "    model = pkl.load(f)"
      ]
    },
    {
      "cell_type": "code",
      "execution_count": null,
      "metadata": {},
      "outputs": [
        {
          "data": {
            "image/png": "[encoded data removed]",
            "text/plain": [
              "<Figure size 640x480 with 1 Axes>"
            ]
          },
          "metadata": {},
          "output_type": "display_data"
        }
      ],
      "source": [
        "\n",
        "# Let's plot the training loss versus the number of iteration.\n",
        "plt.plot(losses);\n",
        "plt.title(\"training loss\");"
      ]
    },
    {
      "cell_type": "markdown",
      "metadata": {},
      "source": [
        "\n",
        "\n"
      ]
    },
    {
      "cell_type": "code",
      "execution_count": null,
      "metadata": {
        "collapsed": false
      },
      "outputs": [
        {
          "name": "stdout",
          "output_type": "stream",
          "text": [
            "Expected: 1. Predicted: 2.\n"
          ]
        }
      ],
      "source": [
        "def predict(tensor):\n",
        "    # Use the model to predict the label of the waveform\n",
        "    tensor = tensor.to(device, dtype=torch.float)\n",
        "    tensor = resample(tensor)\n",
        "    tensor = model(tensor.unsqueeze(0))\n",
        "    tensor = get_likely_index(tensor)\n",
        "    tensor = index_to_label(tensor.squeeze())\n",
        "    return tensor\n",
        "\n",
        "\n",
        "waveform = torch.from_numpy(train_set[-1]['audio'])\n",
        "utterance = train_set[-1]['label']\n",
        "ipd.Audio(train_set[-1]['audio'], rate=sample_rate)\n",
        "\n",
        "print(f\"Expected: {utterance}. Predicted: {predict(waveform)}.\")"
      ]
    },
    {
      "cell_type": "markdown",
      "metadata": {},
      "source": [
        "Find an example that isn’t classified correctly, if there is one.\n",
        "\n",
        "\n"
      ]
    },
    {
      "cell_type": "code",
      "execution_count": null,
      "metadata": {
        "collapsed": false
      },
      "outputs": [
        {
          "name": "stdout",
          "output_type": "stream",
          "text": [
            "Data point #0. Expected: 1. Predicted: 2.\n"
          ]
        }
      ],
      "source": [
        "for i, row in enumerate(val_set):\n",
        "    waveform = torch.from_numpy(train_set[-1]['audio'])\n",
        "    output = predict(waveform)\n",
        "    if output != utterance:\n",
        "        ipd.Audio(waveform.numpy(), rate=sample_rate)\n",
        "        print(f\"Data point #{i}. Expected: {utterance}. Predicted: {output}.\")\n",
        "        break\n",
        "else:\n",
        "    print(\"All examples in this dataset were correctly classified!\")\n",
        "    print(\"In this case, let's just look at the last data point\")\n",
        "    ipd.Audio(waveform.numpy(), rate=sample_rate)\n",
        "    print(f\"Data point #{i}. Expected: {utterance}. Predicted: {output}.\")"
      ]
    },
    {
      "cell_type": "markdown",
      "metadata": {},
      "source": [
        "test with your voice using Google Colab audio recorder\n",
        "\n"
      ]
    },
    {
      "cell_type": "code",
      "execution_count": null,
      "metadata": {
        "collapsed": false
      },
      "outputs": [],
      "source": [
        "def record(seconds=1):\n",
        "\n",
        "    from google.colab import output as colab_output\n",
        "    from base64 import b64decode\n",
        "    from io import BytesIO\n",
        "    from pydub import AudioSegment\n",
        "\n",
        "    RECORD = (\n",
        "        b\"const sleep  = time => new Promise(resolve => setTimeout(resolve, time))\\n\"\n",
        "        b\"const b2text = blob => new Promise(resolve => {\\n\"\n",
        "        b\"  const reader = new FileReader()\\n\"\n",
        "        b\"  reader.onloadend = e => resolve(e.srcElement.result)\\n\"\n",
        "        b\"  reader.readAsDataURL(blob)\\n\"\n",
        "        b\"})\\n\"\n",
        "        b\"var record = time => new Promise(async resolve => {\\n\"\n",
        "        b\"  stream = await navigator.mediaDevices.getUserMedia({ audio: true })\\n\"\n",
        "        b\"  recorder = new MediaRecorder(stream)\\n\"\n",
        "        b\"  chunks = []\\n\"\n",
        "        b\"  recorder.ondataavailable = e => chunks.push(e.data)\\n\"\n",
        "        b\"  recorder.start()\\n\"\n",
        "        b\"  await sleep(time)\\n\"\n",
        "        b\"  recorder.onstop = async ()=>{\\n\"\n",
        "        b\"    blob = new Blob(chunks)\\n\"\n",
        "        b\"    text = await b2text(blob)\\n\"\n",
        "        b\"    resolve(text)\\n\"\n",
        "        b\"  }\\n\"\n",
        "        b\"  recorder.stop()\\n\"\n",
        "        b\"})\"\n",
        "    )\n",
        "    RECORD = RECORD.decode(\"ascii\")\n",
        "\n",
        "    print(f\"Recording started for {seconds} seconds.\")\n",
        "    display(ipd.Javascript(RECORD))\n",
        "    s = colab_output.eval_js(\"record(%d)\" % (seconds * 1000))\n",
        "    print(\"Recording ended.\")\n",
        "    b = b64decode(s.split(\",\")[1])\n",
        "\n",
        "    fileformat = \"wav\"\n",
        "    filename = f\"_audio.{fileformat}\"\n",
        "    AudioSegment.from_file(BytesIO(b)).export(filename, format=fileformat)\n",
        "    return torchaudio.load(filename)\n",
        "\n",
        "\n",
        "# Detect whether notebook runs in google colab\n",
        "if \"google.colab\" in sys.modules:\n",
        "    waveform, sample_rate = record()\n",
        "    print(f\"Predicted: {predict(waveform)}.\")\n",
        "    ipd.Audio(waveform.numpy(), rate=sample_rate)"
      ]
    },
    {
      "cell_type": "markdown",
      "metadata": {},
      "source": [
        "## Conclusion\n",
        "\n",
        "We used torchaudio to load a dataset and resample the\n",
        "signal. We have then defined a neural network that we trained to\n",
        "recognize a given command. There are also other data preprocessing\n",
        "methods, such as finding the mel frequency cepstral coefficients (MFCC),\n",
        "that can reduce the size of the dataset. This transform is also\n",
        "available in torchaudio as ``torchaudio.transforms.MFCC``.\n",
        "\n",
        "\n"
      ]
    }
  ],
  "metadata": {
    "kernelspec": {
      "display_name": "Python 3",
      "language": "python",
      "name": "python3"
    },
    "language_info": {
      "codemirror_mode": {
        "name": "ipython",
        "version": 3
      },
      "file_extension": ".py",
      "mimetype": "text/x-python",
      "name": "python",
      "nbconvert_exporter": "python",
      "pygments_lexer": "ipython3",
      "version": "3.11.4"
    }
  },
  "nbformat": 4,
  "nbformat_minor": 0
}
